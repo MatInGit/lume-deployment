{
 "cells": [
  {
   "cell_type": "code",
   "execution_count": null,
   "id": "39228297",
   "metadata": {},
   "outputs": [],
   "source": []
  },
  {
   "cell_type": "code",
   "execution_count": 1,
   "id": "f1dcda56",
   "metadata": {},
   "outputs": [],
   "source": [
    "# mlflow config, assuming you have an mlflow server running\n",
    "import mlflow\n",
    "import json, os\n",
    "\n",
    "json_data = json.load(open('env.json'))  # this or specify manually\n",
    "os.environ['AWS_DEFAULT_REGION'] = json_data['AWS_DEFAULT_REGION']\n",
    "os.environ['AWS_REGION'] = json_data['AWS_REGION']\n",
    "os.environ['AWS_ACCESS_KEY_ID'] = json_data['AWS_ACCESS_KEY_ID']\n",
    "os.environ['AWS_SECRET_ACCESS_KEY'] = json_data['AWS_SECRET_ACCESS_KEY']\n",
    "os.environ['MLFLOW_S3_ENDPOINT_URL'] = json_data['MLFLOW_S3_ENDPOINT_URL']\n",
    "os.environ['MLFLOW_TRACKING_URI'] = json_data['MLFLOW_TRACKING_URI']"
   ]
  },
  {
   "cell_type": "code",
   "execution_count": 13,
   "id": "5c9396ce",
   "metadata": {},
   "outputs": [
    {
     "ename": "AttributeError",
     "evalue": "'numpy.ndarray' object has no attribute 'items'",
     "output_type": "error",
     "traceback": [
      "\u001b[0;31m---------------------------------------------------------------------------\u001b[0m",
      "\u001b[0;31mAttributeError\u001b[0m                            Traceback (most recent call last)",
      "Cell \u001b[0;32mIn[13], line 36\u001b[0m\n\u001b[1;32m     31\u001b[0m input_example \u001b[38;5;241m=\u001b[39m np\u001b[38;5;241m.\u001b[39marray([\u001b[38;5;241m0.1\u001b[39m, \u001b[38;5;241m0.2\u001b[39m])\n\u001b[1;32m     33\u001b[0m \u001b[38;5;66;03m# result = m.evaluate(input_example)\u001b[39;00m\n\u001b[1;32m     34\u001b[0m \u001b[38;5;66;03m# print(result)\u001b[39;00m\n\u001b[0;32m---> 36\u001b[0m \u001b[43mm\u001b[49m\u001b[38;5;241;43m.\u001b[39;49m\u001b[43mregister_to_mlflow\u001b[49m\u001b[43m(\u001b[49m\n\u001b[1;32m     37\u001b[0m \u001b[43m    \u001b[49m\u001b[43minput_example\u001b[49m\u001b[43m,\u001b[49m\u001b[43m \u001b[49m\n\u001b[1;32m     38\u001b[0m \u001b[43m    \u001b[49m\u001b[43martifact_path\u001b[49m\u001b[38;5;241;43m=\u001b[39;49m\u001b[38;5;124;43m\"\u001b[39;49m\u001b[38;5;124;43martifacts\u001b[39;49m\u001b[38;5;124;43m\"\u001b[39;49m\u001b[43m,\u001b[49m\u001b[43m \u001b[49m\n\u001b[1;32m     39\u001b[0m \u001b[43m    \u001b[49m\u001b[43mregistered_model_name\u001b[49m\u001b[38;5;241;43m=\u001b[39;49m\u001b[38;5;124;43m\"\u001b[39;49m\u001b[38;5;124;43mexample_model\u001b[39;49m\u001b[38;5;124;43m\"\u001b[39;49m\u001b[43m,\u001b[49m\n\u001b[1;32m     40\u001b[0m \u001b[43m    \u001b[49m\u001b[43mrun_name\u001b[49m\u001b[38;5;241;43m=\u001b[39;49m\u001b[38;5;124;43m\"\u001b[39;49m\u001b[38;5;124;43mexample_run\u001b[39;49m\u001b[38;5;124;43m\"\u001b[39;49m\n\u001b[1;32m     41\u001b[0m \u001b[43m)\u001b[49m\n",
      "File \u001b[0;32m~/nfs_home/ml_env/lib/python3.11/site-packages/lume_model/base.py:494\u001b[0m, in \u001b[0;36mLUMEBaseModel.register_to_mlflow\u001b[0;34m(self, input_dict, artifact_path, registered_model_name, tags, version_tags, alias, run_name, log_model_dump, save_jit, **kwargs)\u001b[0m\n\u001b[1;32m    457\u001b[0m \u001b[38;5;28;01mdef\u001b[39;00m\u001b[38;5;250m \u001b[39m\u001b[38;5;21mregister_to_mlflow\u001b[39m(\n\u001b[1;32m    458\u001b[0m     \u001b[38;5;28mself\u001b[39m,\n\u001b[1;32m    459\u001b[0m     input_dict: \u001b[38;5;28mdict\u001b[39m[\u001b[38;5;28mstr\u001b[39m, Union[\u001b[38;5;28mfloat\u001b[39m, torch\u001b[38;5;241m.\u001b[39mTensor]],\n\u001b[0;32m   (...)\u001b[0m\n\u001b[1;32m    468\u001b[0m     \u001b[38;5;241m*\u001b[39m\u001b[38;5;241m*\u001b[39mkwargs,\n\u001b[1;32m    469\u001b[0m ):\n\u001b[1;32m    470\u001b[0m \u001b[38;5;250m    \u001b[39m\u001b[38;5;124;03m\"\"\"\u001b[39;00m\n\u001b[1;32m    471\u001b[0m \u001b[38;5;124;03m    Registers the model to MLflow if mlflow is installed. Each time this function is called, a new version\u001b[39;00m\n\u001b[1;32m    472\u001b[0m \u001b[38;5;124;03m    of the model is created. The model is saved to the tracking server or local directory, depending on the\u001b[39;00m\n\u001b[0;32m   (...)\u001b[0m\n\u001b[1;32m    492\u001b[0m \u001b[38;5;124;03m        Model info metadata, mlflow.models.model.ModelInfo.\u001b[39;00m\n\u001b[1;32m    493\u001b[0m \u001b[38;5;124;03m    \"\"\"\u001b[39;00m\n\u001b[0;32m--> 494\u001b[0m     \u001b[38;5;28;01mreturn\u001b[39;00m \u001b[43mregister_model\u001b[49m\u001b[43m(\u001b[49m\n\u001b[1;32m    495\u001b[0m \u001b[43m        \u001b[49m\u001b[38;5;28;43mself\u001b[39;49m\u001b[43m,\u001b[49m\n\u001b[1;32m    496\u001b[0m \u001b[43m        \u001b[49m\u001b[43minput_dict\u001b[49m\u001b[43m,\u001b[49m\n\u001b[1;32m    497\u001b[0m \u001b[43m        \u001b[49m\u001b[43martifact_path\u001b[49m\u001b[43m,\u001b[49m\n\u001b[1;32m    498\u001b[0m \u001b[43m        \u001b[49m\u001b[43mregistered_model_name\u001b[49m\u001b[43m,\u001b[49m\n\u001b[1;32m    499\u001b[0m \u001b[43m        \u001b[49m\u001b[43mtags\u001b[49m\u001b[43m,\u001b[49m\n\u001b[1;32m    500\u001b[0m \u001b[43m        \u001b[49m\u001b[43mversion_tags\u001b[49m\u001b[43m,\u001b[49m\n\u001b[1;32m    501\u001b[0m \u001b[43m        \u001b[49m\u001b[43malias\u001b[49m\u001b[43m,\u001b[49m\n\u001b[1;32m    502\u001b[0m \u001b[43m        \u001b[49m\u001b[43mrun_name\u001b[49m\u001b[43m,\u001b[49m\n\u001b[1;32m    503\u001b[0m \u001b[43m        \u001b[49m\u001b[43mlog_model_dump\u001b[49m\u001b[43m,\u001b[49m\n\u001b[1;32m    504\u001b[0m \u001b[43m        \u001b[49m\u001b[43msave_jit\u001b[49m\u001b[43m,\u001b[49m\n\u001b[1;32m    505\u001b[0m \u001b[43m        \u001b[49m\u001b[38;5;241;43m*\u001b[39;49m\u001b[38;5;241;43m*\u001b[39;49m\u001b[43mkwargs\u001b[49m\u001b[43m,\u001b[49m\n\u001b[1;32m    506\u001b[0m \u001b[43m    \u001b[49m\u001b[43m)\u001b[49m\n",
      "File \u001b[0;32m~/nfs_home/ml_env/lib/python3.11/site-packages/lume_model/mlflow_utils.py:90\u001b[0m, in \u001b[0;36mregister_model\u001b[0;34m(lume_model, input, artifact_path, registered_model_name, tags, version_tags, alias, run_name, log_model_dump, save_jit, **kwargs)\u001b[0m\n\u001b[1;32m     87\u001b[0m pf_model \u001b[38;5;241m=\u001b[39m create_mlflow_model(lume_model)\n\u001b[1;32m     88\u001b[0m \u001b[38;5;66;03m# Adjust the input to match the expected input format\u001b[39;00m\n\u001b[1;32m     89\u001b[0m \u001b[38;5;66;03m# Must be one of `numpy.ndarray`, `List[numpy.ndarray]`, `Dict[str, numpy.ndarray]` or `pandas.DataFrame`\u001b[39;00m\n\u001b[0;32m---> 90\u001b[0m \u001b[38;5;28minput\u001b[39m \u001b[38;5;241m=\u001b[39m {key: value\u001b[38;5;241m.\u001b[39mnumpy() \u001b[38;5;28;01mfor\u001b[39;00m key, value \u001b[38;5;129;01min\u001b[39;00m \u001b[38;5;28;43minput\u001b[39;49m\u001b[38;5;241;43m.\u001b[39;49m\u001b[43mitems\u001b[49m()}\n\u001b[1;32m     91\u001b[0m signature \u001b[38;5;241m=\u001b[39m mlflow\u001b[38;5;241m.\u001b[39mmodels\u001b[38;5;241m.\u001b[39minfer_signature(\u001b[38;5;28minput\u001b[39m, pf_model\u001b[38;5;241m.\u001b[39mpredict(\u001b[38;5;28minput\u001b[39m))\n\u001b[1;32m     92\u001b[0m model_info \u001b[38;5;241m=\u001b[39m mlflow\u001b[38;5;241m.\u001b[39mpyfunc\u001b[38;5;241m.\u001b[39mlog_model(\n\u001b[1;32m     93\u001b[0m     python_model\u001b[38;5;241m=\u001b[39mpf_model,\n\u001b[1;32m     94\u001b[0m     artifact_path\u001b[38;5;241m=\u001b[39martifact_path,\n\u001b[0;32m   (...)\u001b[0m\n\u001b[1;32m     98\u001b[0m     \u001b[38;5;241m*\u001b[39m\u001b[38;5;241m*\u001b[39mkwargs,\n\u001b[1;32m     99\u001b[0m )\n",
      "\u001b[0;31mAttributeError\u001b[0m: 'numpy.ndarray' object has no attribute 'items'"
     ]
    }
   ],
   "source": [
    "from lume_model.base import LUMEBaseModel\n",
    "from lume_model.variables import ScalarVariable\n",
    "import numpy as np\n",
    "\n",
    "\n",
    "class ExampleModel(LUMEBaseModel):\n",
    "    def _evaluate(self, input_dict):\n",
    "        output_dict = {\n",
    "            \"output1\": input_dict[self.input_variables[0].name] ** 2,\n",
    "            \"output2\": input_dict[self.input_variables[1].name] ** 2,\n",
    "        }\n",
    "        return output_dict\n",
    "\n",
    "\n",
    "input_variables = [\n",
    "    ScalarVariable(name=\"input1\", default=0.1, value_range=[0.0, 1.0]),\n",
    "    ScalarVariable(name=\"input2\", default=0.2, value_range=[0.0, 1.0]),\n",
    "]\n",
    "output_variables = [\n",
    "    ScalarVariable(name=\"output1\"),\n",
    "    ScalarVariable(name=\"output2\"),\n",
    "]\n",
    "\n",
    "m = ExampleModel(input_variables=input_variables, output_variables=output_variables)\n",
    "\n",
    "# input_example = {\n",
    "#     \"input1\": np.array(0.1),\n",
    "#     \"input2\": np.array(0.2),\n",
    "# }\n",
    "\n",
    "input_example = np.array([0.1, 0.2])\n",
    "\n",
    "# result = m.evaluate(input_example)\n",
    "# print(result)\n",
    "\n",
    "m.register_to_mlflow(\n",
    "    input_example, \n",
    "    artifact_path=\"artifacts\", \n",
    "    registered_model_name=\"example_model\",\n",
    "    run_name=\"example_run\"\n",
    ")"
   ]
  },
  {
   "cell_type": "code",
   "execution_count": 14,
   "id": "1cdec81d",
   "metadata": {},
   "outputs": [
    {
     "data": {
      "text/plain": [
       "{'output1': 0.16000000000000003, 'output2': 0.25}"
      ]
     },
     "execution_count": 14,
     "metadata": {},
     "output_type": "execute_result"
    }
   ],
   "source": [
    "input_example = {\n",
    "    \"input1\": 0.4,  # np.array(0.1, dtype=np.float64),\n",
    "    \"input2\": 0.5,  # np.array(0.2, dtype=np.float64),\n",
    "}\n",
    "\n",
    "m.evaluate(input_example)"
   ]
  }
 ],
 "metadata": {
  "kernelspec": {
   "display_name": "ml_env",
   "language": "python",
   "name": "python3"
  },
  "language_info": {
   "codemirror_mode": {
    "name": "ipython",
    "version": 3
   },
   "file_extension": ".py",
   "mimetype": "text/x-python",
   "name": "python",
   "nbconvert_exporter": "python",
   "pygments_lexer": "ipython3",
   "version": "3.11.0rc1"
  }
 },
 "nbformat": 4,
 "nbformat_minor": 5
}
